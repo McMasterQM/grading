{
 "cells": [
  {
   "cell_type": "markdown",
   "metadata": {
    "deletable": false,
    "nbgrader": {
     "cell_type": "markdown",
     "checksum": "e501e33a42462e5b2334918173054fd7",
     "grade": false,
     "grade_id": "preamble",
     "locked": true,
     "schema_version": 3,
     "solution": false,
     "task": false
    }
   },
   "source": [
    "# Using Python, Numpy, Jupyter, and Syzygy\n",
    "## Objective\n",
    "To practice using key tools that we'll need to use during this course.\n",
    "## Instructions\n",
    "Before you turn this problem in, make sure everything runs as expected. First, restart the kernel (in the menubar, select Kernel → Restart) and then run all cells (in the menubar, select Cell → Run All).\n",
    "\n",
    "Make sure you fill in any place that says YOUR CODE HERE or \"YOUR ANSWER HERE\". Don't forget to delete `raise NotImplementedError()`"
   ]
  },
  {
   "cell_type": "markdown",
   "metadata": {
    "deletable": false,
    "editable": false,
    "nbgrader": {
     "cell_type": "markdown",
     "checksum": "590f618fd681610de44e99b0dc9d15f3",
     "grade": false,
     "grade_id": "problem_description",
     "locked": true,
     "schema_version": 3,
     "solution": false,
     "task": false
    }
   },
   "source": [
    "## Problem Statement\n",
    "Write a Python function to compute the final mark for a student in this class. \n",
    "- **Input**: a list of assignment grades, a final exam grade, and a number of pages of extra credit that have been provided.\n",
    "- **Output**: the final mark. \n",
    "Grading Scheme:\n",
    "- Assignment grades are replaced by the final exam grade if the final exam grade is higher.\n",
    "- The final mark (without extra credit) is \n",
    "\n",
    "$$ \n",
    "\\text{total mark} = 0.2(\\text{final exam grade}) + 0.8(\\text{mean of assignment grades after replacements})\n",
    "$$\n",
    "- Extra credit counts by replacing a set percentage (up to 40%) of your final mark with a 100%. The percentage of your final mark that is replaced is given by the below formula. No more than 1200 pages of extra credit problems can be done.\n",
    "\n",
    "$$\n",
    "\\text{percent extra credit} = \\frac{\\text{number of pages of extra credit}}{1200} \\cdot 40\n",
    "$$"
   ]
  },
  {
   "cell_type": "code",
   "execution_count": 1,
   "metadata": {
    "deletable": false,
    "nbgrader": {
     "cell_type": "code",
     "checksum": "2a70f583c850597a313ba79e422e769d",
     "grade": false,
     "grade_id": "one_student_grade",
     "locked": false,
     "schema_version": 3,
     "solution": true,
     "task": false
    }
   },
   "outputs": [],
   "source": [
    "import numpy as np\n",
    "\n",
    "\n",
    "def total_mark_xc(assignments, exam, extra_credit_pages=0):\n",
    "    \"\"\"Computes the final mark for one student in CHEM 3PA3 in 2021\n",
    "\n",
    "    Parameters\n",
    "    ----------\n",
    "    assignments : array_like\n",
    "        assignment grades.\n",
    "    exam : scalar\n",
    "        the grade on the final project/exam.\n",
    "    extra_credit_pages : scalar, optional\n",
    "        the number of extra credit pages. (default is 0)\n",
    "\n",
    "    Returns\n",
    "    -------\n",
    "    total_mark_xc : scalar\n",
    "         The final mark in the course, computed according to the syllabus.\n",
    "    \"\"\"\n",
    "\n",
    "    # YOUR CODE HERE\n",
    "    ### BEGIN SOLUTION\n",
    "    # Compute fraction of final mark that will be 100 due to extra credit\n",
    "    # Using the built-in 'min' function in Python\n",
    "    xc_fraction = (min(extra_credit_pages, 1200) / 1200) * (40 / 100)\n",
    "\n",
    "    # Replace assignment grades that are below the final exam/project mark with that mark.\n",
    "    assignments = np.where(assignments > np.array(exam), assignments, exam)\n",
    "\n",
    "    # Compute final mark ignoring extra credit\n",
    "    total_mark = 0.2 * exam + 0.8 * np.mean(assignments)\n",
    "\n",
    "    # Compute final mark including extra credit\n",
    "    total_mark = xc_fraction * 100 + (1 - xc_fraction) * total_mark\n",
    "\n",
    "    return total_mark\n",
    "#     raise NotImplementedError()"
   ]
  },
  {
   "cell_type": "code",
   "execution_count": 2,
   "metadata": {
    "deletable": false,
    "editable": false,
    "nbgrader": {
     "cell_type": "code",
     "checksum": "f4972f3bab164206f1d7cccba8e6affc",
     "grade": true,
     "grade_id": "one_student_test",
     "locked": true,
     "points": 100,
     "schema_version": 3,
     "solution": false,
     "task": false
    }
   },
   "outputs": [],
   "source": [
    "# It's good to always test to make sure your code is right.\n",
    "np.testing.assert_almost_equal(total_mark_xc([100, 100, 100, 100], 0), 80)\n",
    "np.testing.assert_almost_equal(total_mark_xc([0, 0], 100, 0), 100)\n",
    "np.testing.assert_almost_equal(total_mark_xc([0, 0], 0, 1200), 40)\n"
   ]
  },
  {
   "cell_type": "markdown",
   "metadata": {
    "deletable": false,
    "editable": false,
    "nbgrader": {
     "cell_type": "markdown",
     "checksum": "81298eab1b102259d89d85f2afdbdbda",
     "grade": false,
     "grade_id": "multiple_students",
     "locked": true,
     "schema_version": 3,
     "solution": false,
     "task": false
    }
   },
   "source": [
    "## Extend to Multiple students\n",
    "It is easy to use Numpy to extend this analysis to multiple students. Suppose that you had assignments, finals, and extra credit for more than one student. Rewrite your function so it works for that case too. This extra credit problem is worth 15 \"points\", so you can make a 115 on this assignment.\n",
    "\n"
   ]
  },
  {
   "cell_type": "code",
   "execution_count": 5,
   "metadata": {
    "deletable": false,
    "nbgrader": {
     "cell_type": "code",
     "checksum": "934fc89a8cc67a07f893bf2a08e45a24",
     "grade": false,
     "grade_id": "mult_student_code",
     "locked": false,
     "schema_version": 3,
     "solution": true,
     "task": false
    }
   },
   "outputs": [],
   "source": [
    "import numpy as np\n",
    "\n",
    "\n",
    "def total_mark_xc_mult(assignments, exam, extra_credit_pages):\n",
    "    \"\"\"Computes the final mark for multiple students CHEM 3PA3 in 2021\n",
    "\n",
    "    Parameters\n",
    "    ----------\n",
    "    assignments : array_like\n",
    "        assignment grades; number-of-students by number-of-assignments\n",
    "    exam : array_like\n",
    "        the grade on the final project/exam for each student.\n",
    "    extra_credit_pages : array_like\n",
    "        the number of extra credit pages for each student\n",
    "\n",
    "    Returns\n",
    "    -------the\n",
    "    total_mark_xc : array_like\n",
    "         The final mark in the course for all students, computed according to the syllabus.\n",
    "    \"\"\"\n",
    "\n",
    "    # YOUR CODE HERE\n",
    "#     raise NotImplementedError()\n",
    "    return 0\n"
   ]
  },
  {
   "cell_type": "code",
   "execution_count": 6,
   "metadata": {
    "deletable": false,
    "editable": false,
    "nbgrader": {
     "cell_type": "code",
     "checksum": "1f2d29f657b32c62aa8c8b519d7c78cd",
     "grade": true,
     "grade_id": "mult_student_tests",
     "locked": true,
     "points": 15,
     "schema_version": 3,
     "solution": false,
     "task": false
    }
   },
   "outputs": [
    {
     "ename": "AssertionError",
     "evalue": "\nArrays are not almost equal to 7 decimals\n\nMismatched elements: 3 / 3 (100%)\nMax absolute difference: 100.\nMax relative difference: 1.\n x: array(0)\n y: array([ 80., 100.,  40.])",
     "output_type": "error",
     "traceback": [
      "\u001b[0;31m---------------------------------------------------------------------------\u001b[0m",
      "\u001b[0;31mAssertionError\u001b[0m                            Traceback (most recent call last)",
      "\u001b[0;32m/var/folders/gf/7vfqp7nn2972hrcz727tkjkh0000gn/T/ipykernel_1036/2049554588.py\u001b[0m in \u001b[0;36m<module>\u001b[0;34m\u001b[0m\n\u001b[1;32m      2\u001b[0m \u001b[0mexam\u001b[0m \u001b[0;34m=\u001b[0m \u001b[0mnp\u001b[0m\u001b[0;34m.\u001b[0m\u001b[0marray\u001b[0m\u001b[0;34m(\u001b[0m\u001b[0;34m[\u001b[0m\u001b[0;36m0\u001b[0m\u001b[0;34m,\u001b[0m \u001b[0;36m100\u001b[0m\u001b[0;34m,\u001b[0m \u001b[0;36m0\u001b[0m\u001b[0;34m]\u001b[0m\u001b[0;34m)\u001b[0m\u001b[0;34m\u001b[0m\u001b[0;34m\u001b[0m\u001b[0m\n\u001b[1;32m      3\u001b[0m \u001b[0mextra_credit_pages\u001b[0m \u001b[0;34m=\u001b[0m \u001b[0mnp\u001b[0m\u001b[0;34m.\u001b[0m\u001b[0marray\u001b[0m\u001b[0;34m(\u001b[0m\u001b[0;34m[\u001b[0m\u001b[0;36m0\u001b[0m\u001b[0;34m,\u001b[0m \u001b[0;36m0\u001b[0m\u001b[0;34m,\u001b[0m \u001b[0;36m1200\u001b[0m\u001b[0;34m]\u001b[0m\u001b[0;34m)\u001b[0m\u001b[0;34m\u001b[0m\u001b[0;34m\u001b[0m\u001b[0m\n\u001b[0;32m----> 4\u001b[0;31m np.testing.assert_almost_equal(\n\u001b[0m\u001b[1;32m      5\u001b[0m     \u001b[0mtotal_mark_xc_mult\u001b[0m\u001b[0;34m(\u001b[0m\u001b[0massignments\u001b[0m\u001b[0;34m,\u001b[0m \u001b[0mexam\u001b[0m\u001b[0;34m,\u001b[0m \u001b[0mextra_credit_pages\u001b[0m\u001b[0;34m)\u001b[0m\u001b[0;34m,\u001b[0m \u001b[0;34m[\u001b[0m\u001b[0;36m80.0\u001b[0m\u001b[0;34m,\u001b[0m \u001b[0;36m100.0\u001b[0m\u001b[0;34m,\u001b[0m \u001b[0;36m40.0\u001b[0m\u001b[0;34m]\u001b[0m\u001b[0;34m\u001b[0m\u001b[0;34m\u001b[0m\u001b[0m\n\u001b[1;32m      6\u001b[0m )\n",
      "    \u001b[0;31m[... skipping hidden 2 frame]\u001b[0m\n",
      "\u001b[0;32m/opt/anaconda3/lib/python3.9/site-packages/numpy/testing/_private/utils.py\u001b[0m in \u001b[0;36massert_array_compare\u001b[0;34m(comparison, x, y, err_msg, verbose, header, precision, equal_nan, equal_inf)\u001b[0m\n\u001b[1;32m    840\u001b[0m                                 \u001b[0mverbose\u001b[0m\u001b[0;34m=\u001b[0m\u001b[0mverbose\u001b[0m\u001b[0;34m,\u001b[0m \u001b[0mheader\u001b[0m\u001b[0;34m=\u001b[0m\u001b[0mheader\u001b[0m\u001b[0;34m,\u001b[0m\u001b[0;34m\u001b[0m\u001b[0;34m\u001b[0m\u001b[0m\n\u001b[1;32m    841\u001b[0m                                 names=('x', 'y'), precision=precision)\n\u001b[0;32m--> 842\u001b[0;31m             \u001b[0;32mraise\u001b[0m \u001b[0mAssertionError\u001b[0m\u001b[0;34m(\u001b[0m\u001b[0mmsg\u001b[0m\u001b[0;34m)\u001b[0m\u001b[0;34m\u001b[0m\u001b[0;34m\u001b[0m\u001b[0m\n\u001b[0m\u001b[1;32m    843\u001b[0m     \u001b[0;32mexcept\u001b[0m \u001b[0mValueError\u001b[0m\u001b[0;34m:\u001b[0m\u001b[0;34m\u001b[0m\u001b[0;34m\u001b[0m\u001b[0m\n\u001b[1;32m    844\u001b[0m         \u001b[0;32mimport\u001b[0m \u001b[0mtraceback\u001b[0m\u001b[0;34m\u001b[0m\u001b[0;34m\u001b[0m\u001b[0m\n",
      "\u001b[0;31mAssertionError\u001b[0m: \nArrays are not almost equal to 7 decimals\n\nMismatched elements: 3 / 3 (100%)\nMax absolute difference: 100.\nMax relative difference: 1.\n x: array(0)\n y: array([ 80., 100.,  40.])"
     ]
    }
   ],
   "source": [
    "assignments = np.array([[100, 100, 100, 100], [0, 0, 0, 0], [0, 0, 0, 0]])\n",
    "exam = np.array([0, 100, 0])\n",
    "extra_credit_pages = np.array([0, 0, 1200])\n",
    "np.testing.assert_almost_equal(\n",
    "    total_mark_xc_mult(assignments, exam, extra_credit_pages), [80.0, 100.0, 40.0]\n",
    ")"
   ]
  }
 ],
 "metadata": {
  "celltoolbar": "Edit Metadata",
  "kernelspec": {
   "display_name": "Python 3 (ipykernel)",
   "language": "python",
   "name": "python3"
  },
  "language_info": {
   "codemirror_mode": {
    "name": "ipython",
    "version": 3
   },
   "file_extension": ".py",
   "mimetype": "text/x-python",
   "name": "python",
   "nbconvert_exporter": "python",
   "pygments_lexer": "ipython3",
   "version": "3.9.7"
  }
 },
 "nbformat": 4,
 "nbformat_minor": 4
}
